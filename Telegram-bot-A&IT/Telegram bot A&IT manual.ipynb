{
 "cells": [
  {
   "cell_type": "code",
   "execution_count": null,
   "id": "b634f13d-e7fd-494a-9ec8-6cd9b26d69d5",
   "metadata": {},
   "outputs": [],
   "source": [
    "Телеграмм бот для создания заявок\n",
    "\n",
    "Этот телеграмм бот позволяет пользователям создавать заявки по услугам \"Домофония\" и \"Пожарная сигнализация\". \n",
    "После выбора услуги, адреса и заполнения дополнительной информации, заявка отправляется в указанный канал для дальнейшей обработки.\n",
    "\n",
    "Основные функции:\n",
    "\n",
    "Пользователь выбирает услугу (\"Домофония\" или \"Пожарная сигнализация\").\n",
    "Пользователь выбирает адрес для заявки.\n",
    "Пользователь указывает номер квартиры.\n",
    "Пользователь вводит причину заявки и номер телефона.\n",
    "Создается текстовое сообщение с информацией о заявке и отправляется в указанный канал.\n",
    "Пользователь получает уведомление о создании заявки и может отметить ее как выполненную."
   ]
  },
  {
   "cell_type": "code",
   "execution_count": null,
   "id": "fbfabaaf-b171-4488-96f1-f781b116fe4e",
   "metadata": {},
   "outputs": [],
   "source": [
    "Подключение необходимых библиотек и модулей"
   ]
  },
  {
   "cell_type": "code",
   "execution_count": null,
   "id": "a7a8de6a-8e23-4779-b505-a4dc47fa3dfd",
   "metadata": {},
   "outputs": [],
   "source": [
    "import telebot\n",
    "from telebot import types\n",
    "import datetime"
   ]
  },
  {
   "cell_type": "code",
   "execution_count": null,
   "id": "2544531a-05cd-4f95-b0da-afaccc37af00",
   "metadata": {},
   "outputs": [],
   "source": [
    "Установка TOKEN и CHANNEL_ID\n",
    "TOKEN - это уникальный ключ бота, который выдается при его создании. CHANNEL_ID - это идентификатор канала, куда будут отправляться заявки."
   ]
  },
  {
   "cell_type": "code",
   "execution_count": null,
   "id": "6f81877f-8d85-4060-bd59-5f35b3e1fa83",
   "metadata": {},
   "outputs": [],
   "source": [
    "TOKEN = 'СЮДА ВСТАВЛЯЕТЕ НОМЕР СВОЕГО ТОКЕНА'\n",
    "CHANNEL_ID = 'СЮДА ВСТАВЛЯЕТЕ ID КАНАЛА через знак - ПРИМЕР (-1001234567890)'\n",
    "bot = telebot.TeleBot(TOKEN)\n",
    "user_states = {}"
   ]
  },
  {
   "cell_type": "code",
   "execution_count": null,
   "id": "771d7cb5-fc6c-4679-a373-5de48c0b4461",
   "metadata": {},
   "outputs": [],
   "source": [
    "Обработка команды '/start'"
   ]
  },
  {
   "cell_type": "code",
   "execution_count": null,
   "id": "01f248de-f61e-47c7-bf0a-bead3f48c5c4",
   "metadata": {},
   "outputs": [],
   "source": [
    "@bot.message_handler(commands=['start'])\n",
    "def start(message):\n",
    "    markup = types.ReplyKeyboardMarkup(resize_keyboard=True)\n",
    "    markup.add(types.KeyboardButton('Домофония'), types.KeyboardButton('Пожарная сигнализация'))\n",
    "    bot.send_message(chat_id=message.chat.id, text=\"Выберите услугу:\", reply_markup=markup)"
   ]
  },
  {
   "cell_type": "code",
   "execution_count": null,
   "id": "62c3feaf-0309-418c-a74f-9cd43de1578c",
   "metadata": {},
   "outputs": [],
   "source": [
    "Выбор услуги"
   ]
  },
  {
   "cell_type": "code",
   "execution_count": null,
   "id": "66ce83c4-dea7-46c3-b668-e38538c76156",
   "metadata": {},
   "outputs": [],
   "source": [
    "@bot.message_handler(regexp='Домофония|Пожарная сигнализация')\n",
    "def service_menu(message):\n",
    "    service = message.text\n",
    "    user_states[message.chat.id] = {'service': service, 'address': None, 'apartment': None, 'reason': None}\n",
    "    # ..."
   ]
  },
  {
   "cell_type": "code",
   "execution_count": null,
   "id": "44649eb9-d303-4ef2-bcd0-f3929d52434f",
   "metadata": {},
   "outputs": [],
   "source": [
    "При выборе услуги она сохраняется в словаре user_states с ключом, соответствующим чату пользователя."
   ]
  },
  {
   "cell_type": "code",
   "execution_count": null,
   "id": "54433821-3840-4324-a3b3-677252830840",
   "metadata": {},
   "outputs": [],
   "source": [
    "Выбор адреса"
   ]
  },
  {
   "cell_type": "code",
   "execution_count": null,
   "id": "e9e0fe99-2a22-4cfe-b8d9-c9c2dccf4862",
   "metadata": {},
   "outputs": [],
   "source": [
    "# ...\n",
    "    markup.add(*[types.KeyboardButton(address) for address in addresses])\n",
    "    bot.send_message(chat_id=message.chat.id, text=f\"Выберите адрес для заявки по {service}:\", reply_markup=markup)"
   ]
  },
  {
   "cell_type": "code",
   "execution_count": null,
   "id": "58bb172f-f618-4c94-839e-ec438751a8df",
   "metadata": {},
   "outputs": [],
   "source": [
    "Пользователю предлагается выбрать адрес из списка, который зависит от выбранной ранее услуги."
   ]
  },
  {
   "cell_type": "code",
   "execution_count": null,
   "id": "40563dc9-5722-4f26-9a29-d24be0b60ff2",
   "metadata": {},
   "outputs": [],
   "source": [
    "Ввод номера квартиры и причины заявки"
   ]
  },
  {
   "cell_type": "code",
   "execution_count": null,
   "id": "0b6ad81f-3493-4249-b385-4db9895e5b7f",
   "metadata": {},
   "outputs": [],
   "source": [
    "def handle_apartment(message):\n",
    "    user_states[message.chat.id]['apartment'] = message.text\n",
    "    # ...\n",
    "\n",
    "def handle_reason(message):\n",
    "    user_states[message.chat.id]['reason'] = message.text\n",
    "    # ..."
   ]
  },
  {
   "cell_type": "code",
   "execution_count": null,
   "id": "1ee9dd86-534e-4fff-8b70-e58c76710c75",
   "metadata": {},
   "outputs": [],
   "source": [
    "После выбора адреса пользователю предлагается ввести номер квартиры и причину заявки. \n",
    "Введенные данные сохраняются в словаре user_states."
   ]
  },
  {
   "cell_type": "code",
   "execution_count": null,
   "id": "3570d2a8-4a7b-47a9-9b04-932d9466ec85",
   "metadata": {},
   "outputs": [],
   "source": [
    "Отправка заявки"
   ]
  },
  {
   "cell_type": "code",
   "execution_count": null,
   "id": "15304b4d-0180-47f2-8a70-18fb6902670a",
   "metadata": {},
   "outputs": [],
   "source": [
    "message_text = f\"Новая заявка:\\n\\n\" \\\n",
    "                   f\"Адрес: {selected_address}\\n\" \\\n",
    "                   f\"Квартира: {apartment}\\n\" \\\n",
    "                   f\"Услуга: {service}\\n\" \\\n",
    "                   f\"Причина: {reason}\\n\" \\\n",
    "                   f\"Дата и время: {current_time}\"\n",
    "    # ...\n",
    "    bot.send_message(chat_id=CHANNEL_ID, text=message_text, reply_markup=markup)"
   ]
  },
  {
   "cell_type": "code",
   "execution_count": null,
   "id": "cc92c84a-d76e-4ed4-afcc-0e4d375c2886",
   "metadata": {},
   "outputs": [],
   "source": [
    "После ввода всех данных создается текст заявки и отправляется в канал с указанным CHANNEL_ID."
   ]
  },
  {
   "cell_type": "code",
   "execution_count": null,
   "id": "1c307577-b888-4a8b-b353-d196cb08b336",
   "metadata": {},
   "outputs": [],
   "source": [
    "Обработка сообщений, не удовлетворяющих предыдущим обработчикам"
   ]
  },
  {
   "cell_type": "code",
   "execution_count": null,
   "id": "c74ae792-b8dc-4fdd-8a72-da61280e4bca",
   "metadata": {},
   "outputs": [],
   "source": [
    "@bot.message_handler(content_types=['text'])\n",
    "def any_msg(message):\n",
    "    start(message)"
   ]
  },
  {
   "cell_type": "code",
   "execution_count": null,
   "id": "3b9304b5-39fe-42b4-8f65-76bc4aa3aad7",
   "metadata": {},
   "outputs": [],
   "source": [
    "Если сообщение не удовлетворяет условиям предыдущих обработчиков, то вызывается функция start(message), начинающая диалог сначала."
   ]
  },
  {
   "cell_type": "code",
   "execution_count": null,
   "id": "757e2873-8d3d-469e-a4d7-b1754ab87dbf",
   "metadata": {},
   "outputs": [],
   "source": [
    "Запуск бота"
   ]
  },
  {
   "cell_type": "code",
   "execution_count": null,
   "id": "c47ae859-056d-4658-b0a7-c6d6d84800de",
   "metadata": {},
   "outputs": [],
   "source": [
    "bot.polling(none_stop=True)"
   ]
  },
  {
   "cell_type": "code",
   "execution_count": null,
   "id": "97f891d8-14d4-4b18-a1ca-21a88b3ba976",
   "metadata": {},
   "outputs": [],
   "source": [
    "Начинается бесконечный цикл получения новых обновлений от сервера Telegram."
   ]
  },
  {
   "cell_type": "code",
   "execution_count": null,
   "id": "ebd46621-bda9-4690-a00f-c6010c0cb685",
   "metadata": {},
   "outputs": [],
   "source": []
  },
  {
   "cell_type": "code",
   "execution_count": null,
   "id": "e7c7010a-6690-4e7d-a76a-aedf2f834975",
   "metadata": {},
   "outputs": [],
   "source": []
  }
 ],
 "metadata": {
  "kernelspec": {
   "display_name": "Python 3 (ipykernel)",
   "language": "python",
   "name": "python3"
  },
  "language_info": {
   "codemirror_mode": {
    "name": "ipython",
    "version": 3
   },
   "file_extension": ".py",
   "mimetype": "text/x-python",
   "name": "python",
   "nbconvert_exporter": "python",
   "pygments_lexer": "ipython3",
   "version": "3.11.7"
  }
 },
 "nbformat": 4,
 "nbformat_minor": 5
}
